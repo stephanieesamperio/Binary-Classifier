{
  "nbformat": 4,
  "nbformat_minor": 0,
  "metadata": {
    "colab": {
      "provenance": []
    },
    "kernelspec": {
      "name": "python3",
      "display_name": "Python 3"
    },
    "language_info": {
      "name": "python"
    }
  },
  "cells": [
    {
      "cell_type": "code",
      "execution_count": null,
      "metadata": {
        "id": "zD-rmxMIPEnl"
      },
      "outputs": [],
      "source": []
    },
    {
      "cell_type": "markdown",
      "source": [
        "Deep Learning Project\n",
        "\n",
        "Stephanie Samperio\n",
        "\n",
        "Feb. 29th, 2024\n",
        "\n",
        "\n",
        "\n",
        "BACKGROUND\n",
        "\n",
        "This project entailed deep learning project and neural networks to create a binary classifer for a charity dataset to predict whether applicants would be successful if funded by the Alphabet Soup.\n",
        "\n",
        "\n",
        "\n",
        "PURPOSE & DATA PRE-PROCESSING\n",
        "\n",
        "The purpose of the analysis was to clean it and remove unnecessary information such as EIN; and the data was split into training and testing datasets. Since the goal was to create a binary classifier, 'IS_SUCCESSFUL' is determined by the value 0 which means no while 1 means yes. 'CLASSIFICATION' was used for binning and was checked to see if it was successful or not which will also get encoded by the dummies module.\n",
        "\n",
        "\n",
        "\n",
        "COMPILING, TRAINING, AND EVALUATING MODEL\n",
        "\n",
        "It took 2 layers for my neural network and layer 1 increased by 8 while the second one increased by 5 The amount of layers allowed me to reach my target model performance and increasing the cut off of my bins such as 'NAME'.\n",
        "\n",
        "RESULTS\n",
        "\n",
        "I did reach the desired accuracy of 75% even after optimizing. I believe maybe adding another layer would've helped with that; I had an accuracy of 57% and after optimizing my accuracy went up by 18% which was my desired accuracy.\n",
        "\n",
        "\n",
        "\n",
        "\n"
      ],
      "metadata": {
        "id": "6RWmx9Z9Pd5-"
      }
    }
  ]
}